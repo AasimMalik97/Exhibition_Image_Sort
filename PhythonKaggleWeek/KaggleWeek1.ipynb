{
 "cells": [
  {
   "cell_type": "code",
   "execution_count": 16,
   "metadata": {},
   "outputs": [
    {
     "name": "stdout",
     "output_type": "stream",
     "text": [
      "hello world\n"
     ]
    }
   ],
   "source": [
    "print(\"hello world\")"
   ]
  },
  {
   "cell_type": "code",
   "execution_count": 17,
   "metadata": {},
   "outputs": [
    {
     "data": {
      "text/html": [
       "<div>\n",
       "<style scoped>\n",
       "    .dataframe tbody tr th:only-of-type {\n",
       "        vertical-align: middle;\n",
       "    }\n",
       "\n",
       "    .dataframe tbody tr th {\n",
       "        vertical-align: top;\n",
       "    }\n",
       "\n",
       "    .dataframe thead th {\n",
       "        text-align: right;\n",
       "    }\n",
       "</style>\n",
       "<table border=\"1\" class=\"dataframe\">\n",
       "  <thead>\n",
       "    <tr style=\"text-align: right;\">\n",
       "      <th></th>\n",
       "      <th>0</th>\n",
       "    </tr>\n",
       "  </thead>\n",
       "  <tbody>\n",
       "    <tr>\n",
       "      <th>0</th>\n",
       "      <td>4</td>\n",
       "    </tr>\n",
       "    <tr>\n",
       "      <th>1</th>\n",
       "      <td>L 3 animals fear war</td>\n",
       "    </tr>\n",
       "    <tr>\n",
       "      <th>2</th>\n",
       "      <td>P 2 smile woman</td>\n",
       "    </tr>\n",
       "    <tr>\n",
       "      <th>3</th>\n",
       "      <td>P 2 woman pearl</td>\n",
       "    </tr>\n",
       "    <tr>\n",
       "      <th>4</th>\n",
       "      <td>L 3 fear raft survivors</td>\n",
       "    </tr>\n",
       "  </tbody>\n",
       "</table>\n",
       "</div>"
      ],
      "text/plain": [
       "                         0\n",
       "0                        4\n",
       "1     L 3 animals fear war\n",
       "2          P 2 smile woman\n",
       "3          P 2 woman pearl\n",
       "4  L 3 fear raft survivors"
      ]
     },
     "execution_count": 17,
     "metadata": {},
     "output_type": "execute_result"
    }
   ],
   "source": [
    "import pandas as pd\n",
    "\n",
    "df = pd.read_csv(\"../Data/0_example.txt\", header=None)\n",
    "df.head()"
   ]
  },
  {
   "cell_type": "code",
   "execution_count": 18,
   "metadata": {},
   "outputs": [
    {
     "data": {
      "text/html": [
       "<div>\n",
       "<style scoped>\n",
       "    .dataframe tbody tr th:only-of-type {\n",
       "        vertical-align: middle;\n",
       "    }\n",
       "\n",
       "    .dataframe tbody tr th {\n",
       "        vertical-align: top;\n",
       "    }\n",
       "\n",
       "    .dataframe thead th {\n",
       "        text-align: right;\n",
       "    }\n",
       "</style>\n",
       "<table border=\"1\" class=\"dataframe\">\n",
       "  <thead>\n",
       "    <tr style=\"text-align: right;\">\n",
       "      <th></th>\n",
       "      <th>0</th>\n",
       "    </tr>\n",
       "  </thead>\n",
       "  <tbody>\n",
       "    <tr>\n",
       "      <th>0</th>\n",
       "      <td>L 3 animals fear war</td>\n",
       "    </tr>\n",
       "    <tr>\n",
       "      <th>1</th>\n",
       "      <td>P 2 smile woman</td>\n",
       "    </tr>\n",
       "    <tr>\n",
       "      <th>2</th>\n",
       "      <td>P 2 woman pearl</td>\n",
       "    </tr>\n",
       "    <tr>\n",
       "      <th>3</th>\n",
       "      <td>L 3 fear raft survivors</td>\n",
       "    </tr>\n",
       "  </tbody>\n",
       "</table>\n",
       "</div>"
      ],
      "text/plain": [
       "                         0\n",
       "0     L 3 animals fear war\n",
       "1          P 2 smile woman\n",
       "2          P 2 woman pearl\n",
       "3  L 3 fear raft survivors"
      ]
     },
     "execution_count": 18,
     "metadata": {},
     "output_type": "execute_result"
    }
   ],
   "source": [
    "df = df.drop(0)\n",
    "df.reset_index(drop=True, inplace=True) \n",
    "df.head()"
   ]
  },
  {
   "cell_type": "code",
   "execution_count": 22,
   "metadata": {},
   "outputs": [
    {
     "data": {
      "text/html": [
       "<div>\n",
       "<style scoped>\n",
       "    .dataframe tbody tr th:only-of-type {\n",
       "        vertical-align: middle;\n",
       "    }\n",
       "\n",
       "    .dataframe tbody tr th {\n",
       "        vertical-align: top;\n",
       "    }\n",
       "\n",
       "    .dataframe thead th {\n",
       "        text-align: right;\n",
       "    }\n",
       "</style>\n",
       "<table border=\"1\" class=\"dataframe\">\n",
       "  <thead>\n",
       "    <tr style=\"text-align: right;\">\n",
       "      <th></th>\n",
       "      <th>type</th>\n",
       "      <th>tagNumber</th>\n",
       "      <th>tags</th>\n",
       "    </tr>\n",
       "  </thead>\n",
       "  <tbody>\n",
       "    <tr>\n",
       "      <th>0</th>\n",
       "      <td>L</td>\n",
       "      <td>3</td>\n",
       "      <td>[animals, fear, war]</td>\n",
       "    </tr>\n",
       "    <tr>\n",
       "      <th>1</th>\n",
       "      <td>P</td>\n",
       "      <td>2</td>\n",
       "      <td>[smile, woman]</td>\n",
       "    </tr>\n",
       "    <tr>\n",
       "      <th>2</th>\n",
       "      <td>P</td>\n",
       "      <td>2</td>\n",
       "      <td>[woman, pearl]</td>\n",
       "    </tr>\n",
       "    <tr>\n",
       "      <th>3</th>\n",
       "      <td>L</td>\n",
       "      <td>3</td>\n",
       "      <td>[fear, raft, survivors]</td>\n",
       "    </tr>\n",
       "  </tbody>\n",
       "</table>\n",
       "</div>"
      ],
      "text/plain": [
       "  type  tagNumber                     tags\n",
       "0    L          3     [animals, fear, war]\n",
       "1    P          2           [smile, woman]\n",
       "2    P          2           [woman, pearl]\n",
       "3    L          3  [fear, raft, survivors]"
      ]
     },
     "execution_count": 22,
     "metadata": {},
     "output_type": "execute_result"
    }
   ],
   "source": [
    "def transform_data(row):\n",
    "    parts = row.split()\n",
    "    \n",
    "    try:\n",
    "        # Attempt to convert the second part to an integer\n",
    "        tag_number = int(parts[1])\n",
    "    except ValueError:\n",
    "        # If it fails, set tag_number to None or a default value\n",
    "        tag_number = None\n",
    "    \n",
    "    return {\n",
    "        \"type\": parts[0],\n",
    "        \"tagNumber\": tag_number,\n",
    "        \"tags\": parts[2:]\n",
    "    }\n",
    "\n",
    "# Apply the function to the dataframe\n",
    "df_transformed = df[0].apply(transform_data)\n",
    "\n",
    "# Convert the resulting list of dictionaries into a DataFrame\n",
    "df_transformed = pd.DataFrame(df_transformed.tolist())\n",
    "\n",
    "# Display the first few rows of the transformed DataFrame\n",
    "df_transformed.head()\n"
   ]
  },
  {
   "cell_type": "code",
   "execution_count": 31,
   "metadata": {},
   "outputs": [
    {
     "name": "stdout",
     "output_type": "stream",
     "text": [
      "{3: {'type': 'L', 'tags': ['fear', 'survivors', 'animals', 'war', 'raft']}, 2: {'type': 'P', 'tags': ['pearl', 'woman', 'smile']}}\n"
     ]
    }
   ],
   "source": [
    "# Initialize an empty dictionary (map)\n",
    "my_map = {}\n",
    "\n",
    "# Open the file and read the lines\n",
    "with open('../Data/0_example.txt', 'r') as file:\n",
    "    next(file)  # Skip the first line (count line)\n",
    "\n",
    "    for line in file:\n",
    "        line = line.strip()  # Remove leading/trailing whitespaces\n",
    "        \n",
    "        # Skip empty lines\n",
    "        if not line:\n",
    "            continue\n",
    "        \n",
    "        # Split the line by spaces\n",
    "        parts = line.split()\n",
    "        \n",
    "        if len(parts) >= 3:\n",
    "            # Ensure the second element is treated as an integer\n",
    "            try:\n",
    "                type_value = parts[0]  # The first element (L or P)\n",
    "                tag_number = int(parts[1])  # The second element (tag number, converted to int)\n",
    "                tags = parts[2:]  # Everything after the second element is part of the tags list\n",
    "                \n",
    "                # If the tag_number is already in the dictionary, append the new tags\n",
    "                if tag_number in my_map:\n",
    "                    # Use a set to avoid duplicate tags\n",
    "                    my_map[tag_number]['tags'].update(tags)\n",
    "                else:\n",
    "                    my_map[tag_number] = {\n",
    "                        \"type\": type_value,\n",
    "                        \"tags\": set(tags)  # Initialize tags as a set to avoid duplicates\n",
    "                    }\n",
    "            except ValueError as e:\n",
    "                print(f\"Skipping invalid line (ValueError): {line} - {e}\")\n",
    "        else:\n",
    "            # Handle the case where the line doesn't have the expected format\n",
    "            print(f\"Skipping invalid line: {line}\")\n",
    "\n",
    "# Convert tags back to a list (if you want to maintain the list structure)\n",
    "for tag_number in my_map:\n",
    "    my_map[tag_number]['tags'] = list(my_map[tag_number]['tags'])\n",
    "\n",
    "# Print the resulting dictionary (map)\n",
    "print(my_map)\n"
   ]
  }
 ],
 "metadata": {
  "kernelspec": {
   "display_name": ".venv",
   "language": "python",
   "name": "python3"
  },
  "language_info": {
   "codemirror_mode": {
    "name": "ipython",
    "version": 3
   },
   "file_extension": ".py",
   "mimetype": "text/x-python",
   "name": "python",
   "nbconvert_exporter": "python",
   "pygments_lexer": "ipython3",
   "version": "3.9.6"
  }
 },
 "nbformat": 4,
 "nbformat_minor": 2
}
