{
 "cells": [
  {
   "cell_type": "code",
   "execution_count": 5,
   "metadata": {},
   "outputs": [
    {
     "name": "stdout",
     "output_type": "stream",
     "text": [
      "{0: ['80000']}\n"
     ]
    }
   ],
   "source": [
    "data_dict = {}\n",
    "with open(\"data/110_oily_portraits.txt\", \"r\") as file:\n",
    "    for i, line in enumerate(file):\n",
    "        data_dict[i] = line.strip().split()\n",
    "        data = file.readlines()\n",
    "print(data_dict)"
   ]
  },
  {
   "cell_type": "code",
   "execution_count": 6,
   "metadata": {},
   "outputs": [
    {
     "name": "stdout",
     "output_type": "stream",
     "text": [
      "{0: ['80000']}\n"
     ]
    }
   ],
   "source": [
    "# Extract a subset of data_dict\n",
    "subset_data_dict = {k: v for k, v in data_dict.items() if k <= 10}\n",
    "print(subset_data_dict)"
   ]
  },
  {
   "cell_type": "code",
   "execution_count": 7,
   "metadata": {},
   "outputs": [
    {
     "name": "stdout",
     "output_type": "stream",
     "text": [
      "{0: {'type': '80000', 'tagNumber': None, 'tags': []}}\n"
     ]
    }
   ],
   "source": [
    "transformed_data_dict = {}\n",
    "\n",
    "def transform_data(row):\n",
    "    parts = row\n",
    "    return {\n",
    "        \"type\": parts[0] if len(parts) > 0 else None,\n",
    "        \"tagNumber\": int(parts[1]) if len(parts) > 1 else None,\n",
    "        \"tags\": parts[2:] if len(parts) > 2 else []\n",
    "    }\n",
    "\n",
    "for key, value in data_dict.items():\n",
    "    transformed_data_dict[key] = transform_data(value)\n",
    "    \n",
    "    if key > 10:\n",
    "        break\n",
    "\n",
    "print(transformed_data_dict)"
   ]
  },
  {
   "cell_type": "code",
   "execution_count": 2,
   "metadata": {},
   "outputs": [
    {
     "name": "stdout",
     "output_type": "stream",
     "text": [
      "Defaulting to user installation because normal site-packages is not writeable\n",
      "Requirement already satisfied: numpy in c:\\programdata\\anaconda3\\lib\\site-packages (1.26.4)\n",
      "Note: you may need to restart the kernel to use updated packages.\n"
     ]
    },
    {
     "ename": "NameError",
     "evalue": "name 'data' is not defined",
     "output_type": "error",
     "traceback": [
      "\u001b[1;31m---------------------------------------------------------------------------\u001b[0m",
      "\u001b[1;31mNameError\u001b[0m                                 Traceback (most recent call last)",
      "Cell \u001b[1;32mIn[2], line 50\u001b[0m\n\u001b[0;32m     47\u001b[0m     \u001b[38;5;28;01mreturn\u001b[39;00m pairs, leftover\n\u001b[0;32m     49\u001b[0m \u001b[38;5;66;03m# Extract P entries and their contents\u001b[39;00m\n\u001b[1;32m---> 50\u001b[0m p_entries \u001b[38;5;241m=\u001b[39m [line\u001b[38;5;241m.\u001b[39msplit(maxsplit\u001b[38;5;241m=\u001b[39m\u001b[38;5;241m2\u001b[39m)[\u001b[38;5;241m2\u001b[39m]\u001b[38;5;241m.\u001b[39mstrip() \u001b[38;5;28;01mfor\u001b[39;00m line \u001b[38;5;129;01min\u001b[39;00m data \u001b[38;5;28;01mif\u001b[39;00m line\u001b[38;5;241m.\u001b[39mstartswith(\u001b[38;5;124m\"\u001b[39m\u001b[38;5;124mP\u001b[39m\u001b[38;5;124m\"\u001b[39m)]\n\u001b[0;32m     52\u001b[0m \u001b[38;5;66;03m# Execute the optimized pairing\u001b[39;00m\n\u001b[0;32m     53\u001b[0m pairs, leftover \u001b[38;5;241m=\u001b[39m pair_entries_with_matrix(p_entries)\n",
      "\u001b[1;31mNameError\u001b[0m: name 'data' is not defined"
     ]
    }
   ],
   "source": [
    "%pip install numpy\n",
    "import numpy as np\n",
    "\n",
    "# Function to calculate the similarity between all pairs\n",
    "def compute_similarity_matrix(entries):\n",
    "    n = len(entries)\n",
    "    similarity_matrix = np.zeros((n, n), dtype=int)\n",
    "    for i in range(n):\n",
    "        for j in range(i + 1, n):  # Fill the upper triangle\n",
    "            similarity = len(set(entries[i].split()) & set(entries[j].split()))\n",
    "            similarity_matrix[i, j] = similarity\n",
    "            similarity_matrix[j, i] = similarity  # Mirror the value\n",
    "    return similarity_matrix\n",
    "\n",
    "# Pair entries using the similarity matrix\n",
    "def pair_entries_with_matrix(entries):\n",
    "    similarity_matrix = compute_similarity_matrix(entries)\n",
    "    pairs = []\n",
    "    used_indices = set()\n",
    "    n = len(entries)\n",
    "\n",
    "    for _ in range(n // 2):  # We can pair at most n // 2 times\n",
    "        max_sim = -1\n",
    "        best_pair = None\n",
    "\n",
    "        # Find the best pair (most similar)\n",
    "        for i in range(n):\n",
    "            if i in used_indices:\n",
    "                continue\n",
    "            for j in range(i + 1, n):\n",
    "                if j in used_indices:\n",
    "                    continue\n",
    "                if similarity_matrix[i, j] > max_sim:\n",
    "                    max_sim = similarity_matrix[i, j]\n",
    "                    best_pair = (i, j)\n",
    "        \n",
    "        if best_pair:\n",
    "            i, j = best_pair\n",
    "            pairs.append((entries[i], entries[j]))\n",
    "            used_indices.update({i, j})\n",
    "        else:\n",
    "            break  # No more pairs can be formed\n",
    "\n",
    "    # Handle leftover entries\n",
    "    leftover = [entries[i] for i in range(n) if i not in used_indices]\n",
    "\n",
    "    return pairs, leftover\n",
    "\n",
    "# Extract P entries and their contents\n",
    "p_entries = [line.split(maxsplit=2)[2].strip() for line in data if line.startswith(\"P\")]\n",
    "\n",
    "# Execute the optimized pairing\n",
    "pairs, leftover = pair_entries_with_matrix(p_entries)\n",
    "\n",
    "# Output the results\n",
    "print(\"Grouped P Entries:\")\n",
    "for idx, (entry1, entry2) in enumerate(pairs, 1):\n",
    "    print(f\"Pair {idx}:\")\n",
    "    print(f\"  {entry1}\")\n",
    "    print(f\"  {entry2}\")\n",
    "\n",
    "if leftover:\n",
    "    print(\"\\nLeftover P Entries:\")\n",
    "    for entry in leftover:\n",
    "        print(f\"  {entry}\")\n"
   ]
  },
  {
   "cell_type": "code",
   "execution_count": null,
   "metadata": {},
   "outputs": [],
   "source": []
  }
 ],
 "metadata": {
  "kernelspec": {
   "display_name": "base",
   "language": "python",
   "name": "python3"
  },
  "language_info": {
   "codemirror_mode": {
    "name": "ipython",
    "version": 3
   },
   "file_extension": ".py",
   "mimetype": "text/x-python",
   "name": "python",
   "nbconvert_exporter": "python",
   "pygments_lexer": "ipython3",
   "version": "3.12.4"
  }
 },
 "nbformat": 4,
 "nbformat_minor": 2
}
