{
 "cells": [
  {
   "cell_type": "code",
   "execution_count": 1,
   "metadata": {},
   "outputs": [],
   "source": [
    "with open('../Data/1_binary_landscapes.txt', 'r') as file:\n",
    "    content = file.read()"
   ]
  },
  {
   "cell_type": "code",
   "execution_count": 2,
   "metadata": {},
   "outputs": [],
   "source": [
    "import json\n",
    "\n",
    "# Create a list to hold the JSON objects\n",
    "json_list = []\n",
    "\n",
    "# Iterate over the lines and create the JSON objects\n",
    "lines = content.split('\\n')\n",
    "# Remove the first line\n",
    "lines = lines[1:]\n",
    "\n",
    "for idx, line in enumerate(lines):\n",
    "    if line:\n",
    "        parts = line.split()\n",
    "        json_obj = {\n",
    "            \"id\": [idx],\n",
    "            \"type\": parts[0],\n",
    "            \"tagLength\": parts[1],\n",
    "            \"tags\": parts[2:]\n",
    "        }\n",
    "        json_list.append(json_obj)\n",
    "\n",
    "# Convert the list to a JSON string\n",
    "json_str = json.dumps(json_list, indent=4)"
   ]
  },
  {
   "cell_type": "code",
   "execution_count": 3,
   "metadata": {},
   "outputs": [],
   "source": [
    "Portrait_Images = [i for i in json_list if i[\"type\"] == \"P\"]\n",
    "Landscape_Images = [i for i in json_list if i[\"type\"] == \"L\"]"
   ]
  },
  {
   "cell_type": "code",
   "execution_count": 4,
   "metadata": {},
   "outputs": [],
   "source": [
    "def min_form_number_of_common_tags(row1, row2):\n",
    "\n",
    "    set1 = set(row1['tags'])\n",
    "    set2 = set(row2['tags'])\n",
    "    \n",
    "    tags_in_row1_not_in_row2 = len(set1 - set2)\n",
    "    tags_in_row2_not_in_row1 = len(set2 - set1)\n",
    "    common_tags = len(set1 & set2)\n",
    "    \n",
    "    return min(tags_in_row1_not_in_row2, tags_in_row2_not_in_row1, common_tags)\n"
   ]
  },
  {
   "cell_type": "code",
   "execution_count": 5,
   "metadata": {},
   "outputs": [],
   "source": [
    "Frame_Portrait_Images = []\n",
    "\n",
    "if(len(Portrait_Images)>0):\n",
    "    \n",
    "    Temp_Portrait_Images = Portrait_Images.copy()\n",
    "    \n",
    "    for i in range(len(Portrait_Images)):\n",
    "        if len(Temp_Portrait_Images) == 0:\n",
    "            break\n",
    "        \n",
    "        element1 = Temp_Portrait_Images.pop(0)\n",
    "        \n",
    "        for j in range(len(Temp_Portrait_Images)):\n",
    "            element2 = Temp_Portrait_Images[j]\n",
    "            common_tags = len(set(element1.get('tags')) & set(element2.get('tags')))\n",
    "            if common_tags < 1:\n",
    "                combined_tags = list(set(element1.get('tags')) | set(element2.get('tags')))\n",
    "                Frame_Portrait_Images.append({\n",
    "                    \"id\": [element1['id'][0], element2['id'][0]],\n",
    "                    \"type\": \"P\",\n",
    "                    \"tagLength\": len(combined_tags),\n",
    "                    \"tags\": combined_tags\n",
    "                })\n",
    "                Temp_Portrait_Images.pop(j)\n",
    "                break\n",
    "            else :\n",
    "                if j == len(Temp_Portrait_Images) - 1:\n",
    "                    combined_tags = list(set(element1.get('tags')) | set(element2.get('tags')))\n",
    "                    Frame_Portrait_Images.append({\n",
    "                        \"id\": [element1['id'][0], element2['id'][0]],\n",
    "                        \"type\": \"P\",\n",
    "                        \"tagLength\": len(combined_tags),\n",
    "                        \"tags\": combined_tags\n",
    "                    })\n",
    "                    Temp_Portrait_Images.pop(j)\n",
    "                    break"
   ]
  },
  {
   "cell_type": "code",
   "execution_count": 6,
   "metadata": {},
   "outputs": [],
   "source": [
    "Final_List = Frame_Portrait_Images + Landscape_Images"
   ]
  },
  {
   "cell_type": "code",
   "execution_count": 7,
   "metadata": {},
   "outputs": [
    {
     "ename": "KeyboardInterrupt",
     "evalue": "",
     "output_type": "error",
     "traceback": [
      "\u001b[1;31m---------------------------------------------------------------------------\u001b[0m",
      "\u001b[1;31mKeyboardInterrupt\u001b[0m                         Traceback (most recent call last)",
      "Cell \u001b[1;32mIn[7], line 34\u001b[0m\n\u001b[0;32m     30\u001b[0m element2 \u001b[38;5;241m=\u001b[39m Temp_Sorted_List[j]\n\u001b[0;32m     32\u001b[0m condition_number \u001b[38;5;241m=\u001b[39m min_form_number_of_common_tags(element1, element2)\n\u001b[1;32m---> 34\u001b[0m \u001b[38;5;28;01mif\u001b[39;00m condition_number \u001b[38;5;241m>\u001b[39m \u001b[38;5;28mint\u001b[39m(element1\u001b[38;5;241m.\u001b[39mget(\u001b[38;5;124m'\u001b[39m\u001b[38;5;124mtagLength\u001b[39m\u001b[38;5;124m'\u001b[39m))\u001b[38;5;241m/\u001b[39m\u001b[38;5;241m3\u001b[39m \u001b[38;5;129;01mor\u001b[39;00m condition_number \u001b[38;5;241m>\u001b[39m \u001b[38;5;28mint\u001b[39m(element2\u001b[38;5;241m.\u001b[39mget(\u001b[38;5;124m'\u001b[39m\u001b[38;5;124mtagLength\u001b[39m\u001b[38;5;124m'\u001b[39m))\u001b[38;5;241m/\u001b[39m\u001b[38;5;241m3\u001b[39m :\n\u001b[0;32m     35\u001b[0m     Sorted_List\u001b[38;5;241m.\u001b[39mappend(Temp_Sorted_List\u001b[38;5;241m.\u001b[39mpop(j))\n\u001b[0;32m     36\u001b[0m     \u001b[38;5;28;01mbreak\u001b[39;00m\n",
      "\u001b[1;31mKeyboardInterrupt\u001b[0m: "
     ]
    }
   ],
   "source": [
    "Sorted_List = []\n",
    "\n",
    "Temp_Sorted_List = Final_List.copy()\n",
    "\n",
    "if Temp_Sorted_List:\n",
    "    Sorted_List.append(Temp_Sorted_List.pop(0))\n",
    "\n",
    "for i in range(len(Final_List)):\n",
    "    \n",
    "    if not Temp_Sorted_List:\n",
    "        break\n",
    "    \n",
    "    element1 = Sorted_List[-1]\n",
    "\n",
    "    min_len_limit_range = int(element1.get('tagLength')) - 2 if int(element1.get('tagLength')) - 2 > 0 else 0\n",
    "    \n",
    "    max_len_limit_range = int(element1.get('tagLength')) + 2 \n",
    "    \n",
    "    Range_List = [i for i in Temp_Sorted_List if min_len_limit_range <= int(i.get('tagLength')) <= max_len_limit_range]\n",
    "    \n",
    "    max_score = -1\n",
    "    max_index = -1\n",
    "    \n",
    "    \n",
    "    if not Range_List:\n",
    "        Sorted_List.append(Temp_Sorted_List.pop(0))\n",
    "    else:\n",
    "        \n",
    "        for j in range(len(Range_List)):\n",
    "            element2 = Temp_Sorted_List[j]\n",
    "            \n",
    "            condition_number = min_form_number_of_common_tags(element1, element2)\n",
    "            \n",
    "            if condition_number > int(element1.get('tagLength'))/3 or condition_number > int(element2.get('tagLength'))/3 :\n",
    "                Sorted_List.append(Temp_Sorted_List.pop(j))\n",
    "                break\n",
    "            else:\n",
    "                if condition_number > max_score:\n",
    "                    max_score = condition_number\n",
    "                    max_index = j\n",
    "                    \n",
    "            \n",
    "            if j == len(Range_List) - 1 and max_index != -1:\n",
    "                index_temp = Temp_Sorted_List.index(Range_List[max_index])\n",
    "                Sorted_List.append(Temp_Sorted_List.pop(index_temp))\n",
    "                break\n",
    "            else:\n",
    "                if j == len(Range_List) - 1:\n",
    "                    index_temp = Temp_Sorted_List.index(Range_List[0])    \n",
    "                    Sorted_List.append(Temp_Sorted_List.pop(index_temp))\n",
    "                    break\n",
    "            "
   ]
  },
  {
   "cell_type": "code",
   "execution_count": null,
   "metadata": {},
   "outputs": [],
   "source": [
    "# print(min_form_number_of_common_tags(Sorted_List[50000], Sorted_List[50001]))\n",
    "\n",
    "# element1 = Sorted_List[29997]\n",
    "\n",
    "# min_len_limit_range = int(element1.get('tagLength')) - 2 if int(element1.get('tagLength')) - 2 > 0 else 0\n",
    "    \n",
    "# max_len_limit_range = int(element1.get('tagLength')) + 2 \n",
    "    \n",
    "# Range_List = [i for i in Temp_Sorted_List if min_len_limit_range <= int(i.get('tagLength')) <= max_len_limit_range]\n",
    "\n",
    "# print(Range_List[0])\n",
    "\n",
    "# print(min_form_number_of_common_tags(element1, Range_List))"
   ]
  },
  {
   "cell_type": "code",
   "execution_count": null,
   "metadata": {},
   "outputs": [
    {
     "name": "stdout",
     "output_type": "stream",
     "text": [
      "309732\n"
     ]
    }
   ],
   "source": [
    "def calculate_score(frameglasses):\n",
    "    \"\"\"Calculates the Global Robotic Satisfaction.\"\"\"\n",
    "    score = 0\n",
    "    for i in range(len(frameglasses) - 1):\n",
    "        tags1 = frameglasses[i]\n",
    "        tags2 = frameglasses[i + 1]\n",
    "        \n",
    "        local_score = min_form_number_of_common_tags(tags1, tags2)\n",
    "        score += local_score\n",
    "\n",
    "    return score\n",
    "\n",
    "print(calculate_score(Sorted_List))"
   ]
  },
  {
   "cell_type": "code",
   "execution_count": null,
   "metadata": {},
   "outputs": [
    {
     "name": "stdout",
     "output_type": "stream",
     "text": [
      "Output file created at: ../Data/output11.txt\n"
     ]
    }
   ],
   "source": [
    "output_file_path = \"../Data/output1.txt\"\n",
    "\n",
    "with open(output_file_path, 'w') as file:\n",
    "    # Write the total number of rows\n",
    "    file.write(f\"{len(Sorted_List)}\\n\")\n",
    "    \n",
    "    # Write the 'id' column of each row without brackets\n",
    "    for row in Sorted_List:\n",
    "        ids_str = ' '.join(map(str, row.get('id')))\n",
    "        file.write(f\"{ids_str}\\n\")\n",
    "\n",
    "print(f\"Output file created at: {output_file_path}\")"
   ]
  }
 ],
 "metadata": {
  "kernelspec": {
   "display_name": "base",
   "language": "python",
   "name": "python3"
  },
  "language_info": {
   "codemirror_mode": {
    "name": "ipython",
    "version": 3
   },
   "file_extension": ".py",
   "mimetype": "text/x-python",
   "name": "python",
   "nbconvert_exporter": "python",
   "pygments_lexer": "ipython3",
   "version": "3.11.7"
  }
 },
 "nbformat": 4,
 "nbformat_minor": 2
}
