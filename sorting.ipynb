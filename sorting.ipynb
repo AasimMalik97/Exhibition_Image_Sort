{
 "cells": [
  {
   "cell_type": "code",
   "execution_count": 1,
   "metadata": {},
   "outputs": [
    {
     "data": {
      "text/html": [
       "<div>\n",
       "<style scoped>\n",
       "    .dataframe tbody tr th:only-of-type {\n",
       "        vertical-align: middle;\n",
       "    }\n",
       "\n",
       "    .dataframe tbody tr th {\n",
       "        vertical-align: top;\n",
       "    }\n",
       "\n",
       "    .dataframe thead th {\n",
       "        text-align: right;\n",
       "    }\n",
       "</style>\n",
       "<table border=\"1\" class=\"dataframe\">\n",
       "  <thead>\n",
       "    <tr style=\"text-align: right;\">\n",
       "      <th></th>\n",
       "      <th>0</th>\n",
       "    </tr>\n",
       "  </thead>\n",
       "  <tbody>\n",
       "    <tr>\n",
       "      <th>0</th>\n",
       "      <td>L 21 ar5fv a99am a5nnd aj4f awzgl a6zkl acz3g ...</td>\n",
       "    </tr>\n",
       "    <tr>\n",
       "      <th>1</th>\n",
       "      <td>L 9 apvh8 a7fgq a6p61 a5u7p awzsw akw11 alhla ...</td>\n",
       "    </tr>\n",
       "    <tr>\n",
       "      <th>2</th>\n",
       "      <td>L 15 ajj0r ak3r a5pgg af36u avwcg an4hp a0r1w ...</td>\n",
       "    </tr>\n",
       "    <tr>\n",
       "      <th>3</th>\n",
       "      <td>L 15 a4ra4 a48r2 a0h5n abzhk a52uu au895 afv2 ...</td>\n",
       "    </tr>\n",
       "    <tr>\n",
       "      <th>4</th>\n",
       "      <td>L 15 a5rbj a8z5v a46vk a9h9q a98wh ajbc a7w5h ...</td>\n",
       "    </tr>\n",
       "  </tbody>\n",
       "</table>\n",
       "</div>"
      ],
      "text/plain": [
       "                                                   0\n",
       "0  L 21 ar5fv a99am a5nnd aj4f awzgl a6zkl acz3g ...\n",
       "1  L 9 apvh8 a7fgq a6p61 a5u7p awzsw akw11 alhla ...\n",
       "2  L 15 ajj0r ak3r a5pgg af36u avwcg an4hp a0r1w ...\n",
       "3  L 15 a4ra4 a48r2 a0h5n abzhk a52uu au895 afv2 ...\n",
       "4  L 15 a5rbj a8z5v a46vk a9h9q a98wh ajbc a7w5h ..."
      ]
     },
     "execution_count": 1,
     "metadata": {},
     "output_type": "execute_result"
    }
   ],
   "source": [
    "import pandas  as pd\n",
    "\n",
    "df = pd.read_csv(\"../Data/1_binary_landscapes.txt\", header=None)\n",
    "\n",
    "df = df.drop(0)\n",
    "\n",
    "df.reset_index(drop=True, inplace=True)\n",
    "\n",
    "df.head()"
   ]
  },
  {
   "cell_type": "code",
   "execution_count": 2,
   "metadata": {},
   "outputs": [
    {
     "data": {
      "text/html": [
       "<div>\n",
       "<style scoped>\n",
       "    .dataframe tbody tr th:only-of-type {\n",
       "        vertical-align: middle;\n",
       "    }\n",
       "\n",
       "    .dataframe tbody tr th {\n",
       "        vertical-align: top;\n",
       "    }\n",
       "\n",
       "    .dataframe thead th {\n",
       "        text-align: right;\n",
       "    }\n",
       "</style>\n",
       "<table border=\"1\" class=\"dataframe\">\n",
       "  <thead>\n",
       "    <tr style=\"text-align: right;\">\n",
       "      <th></th>\n",
       "      <th>id</th>\n",
       "      <th>type</th>\n",
       "      <th>tagNumber</th>\n",
       "      <th>tags</th>\n",
       "    </tr>\n",
       "  </thead>\n",
       "  <tbody>\n",
       "    <tr>\n",
       "      <th>0</th>\n",
       "      <td>[0]</td>\n",
       "      <td>L</td>\n",
       "      <td>21</td>\n",
       "      <td>[ar5fv, a99am, a5nnd, aj4f, awzgl, a6zkl, acz3...</td>\n",
       "    </tr>\n",
       "    <tr>\n",
       "      <th>1</th>\n",
       "      <td>[1]</td>\n",
       "      <td>L</td>\n",
       "      <td>9</td>\n",
       "      <td>[apvh8, a7fgq, a6p61, a5u7p, awzsw, akw11, alh...</td>\n",
       "    </tr>\n",
       "    <tr>\n",
       "      <th>2</th>\n",
       "      <td>[2]</td>\n",
       "      <td>L</td>\n",
       "      <td>15</td>\n",
       "      <td>[ajj0r, ak3r, a5pgg, af36u, avwcg, an4hp, a0r1...</td>\n",
       "    </tr>\n",
       "    <tr>\n",
       "      <th>3</th>\n",
       "      <td>[3]</td>\n",
       "      <td>L</td>\n",
       "      <td>15</td>\n",
       "      <td>[a4ra4, a48r2, a0h5n, abzhk, a52uu, au895, afv...</td>\n",
       "    </tr>\n",
       "    <tr>\n",
       "      <th>4</th>\n",
       "      <td>[4]</td>\n",
       "      <td>L</td>\n",
       "      <td>15</td>\n",
       "      <td>[a5rbj, a8z5v, a46vk, a9h9q, a98wh, ajbc, a7w5...</td>\n",
       "    </tr>\n",
       "  </tbody>\n",
       "</table>\n",
       "</div>"
      ],
      "text/plain": [
       "    id type  tagNumber                                               tags\n",
       "0  [0]    L         21  [ar5fv, a99am, a5nnd, aj4f, awzgl, a6zkl, acz3...\n",
       "1  [1]    L          9  [apvh8, a7fgq, a6p61, a5u7p, awzsw, akw11, alh...\n",
       "2  [2]    L         15  [ajj0r, ak3r, a5pgg, af36u, avwcg, an4hp, a0r1...\n",
       "3  [3]    L         15  [a4ra4, a48r2, a0h5n, abzhk, a52uu, au895, afv...\n",
       "4  [4]    L         15  [a5rbj, a8z5v, a46vk, a9h9q, a98wh, ajbc, a7w5..."
      ]
     },
     "execution_count": 2,
     "metadata": {},
     "output_type": "execute_result"
    }
   ],
   "source": [
    "def transform_data(row, idx):\n",
    "    parts = row.split()\n",
    "    return {\n",
    "        \"id\": [idx],\n",
    "        \"type\": parts[0],\n",
    "        \"tagNumber\": int(parts[1]),\n",
    "        \"tags\": parts[2:]\n",
    "    }\n",
    "\n",
    "df_transformed = df.apply(lambda row: transform_data(row[0], row.name), axis=1)\n",
    "df_transformed = pd.DataFrame(df_transformed.tolist())\n",
    "df_transformed.head()"
   ]
  },
  {
   "cell_type": "code",
   "execution_count": 3,
   "metadata": {},
   "outputs": [],
   "source": [
    "df_L = df_transformed[df_transformed['type'] == 'L']\n",
    "df_P = df_transformed[df_transformed['type'] == 'P']"
   ]
  },
  {
   "cell_type": "code",
   "execution_count": 4,
   "metadata": {},
   "outputs": [
    {
     "name": "stdout",
     "output_type": "stream",
     "text": [
      "The length of df_P is less than 2. Cannot proceed with the operation.\n"
     ]
    }
   ],
   "source": [
    "import numpy as np\n",
    "if len(df_P) < 2:\n",
    "    # raise ValueError(\"The length of df_P is less than 2. Cannot proceed with the operation.\")\n",
    "    print(\"The length of df_P is less than 2. Cannot proceed with the operation.\")\n",
    "else:\n",
    "    # Create a common_tags_matrix for demonstration purposes\n",
    "    common_tags_matrix = np.random.randint(0, 10, size=(len(df_P), len(df_P)))\n",
    "\n",
    "    # Define max_common_tags for demonstration purposes\n",
    "    max_common_tags = np.max(common_tags_matrix)\n",
    "\n",
    "    # Flatten the common_tags_matrix and get the indices\n",
    "    flat_indices = np.argsort(common_tags_matrix, axis=None, kind='stable')\n",
    "\n",
    "    # Convert the flat indices back to 2D indices\n",
    "    row_indices, col_indices = np.unravel_index(flat_indices, common_tags_matrix.shape)\n",
    "\n",
    "    # Get the pairs with the highest common tags, ensuring each row is used only once\n",
    "    used_indices = set()\n",
    "    highest_common_pairs = []\n",
    "    for i in range(len(row_indices)):\n",
    "        if row_indices[i] != col_indices[i]:  # Ensure pairs are not made with themselves\n",
    "            if common_tags_matrix[row_indices[i], col_indices[i]] == max_common_tags:\n",
    "                if row_indices[i] not in used_indices and col_indices[i] not in used_indices:\n",
    "                    highest_common_pairs.append((row_indices[i], col_indices[i]))\n",
    "                    used_indices.add(row_indices[i])\n",
    "                    used_indices.add(col_indices[i])\n",
    "\n",
    "    # If there are unused rows, pair them with any other unused row\n",
    "    unused_indices = [idx for idx in range(len(df_P)) if idx not in used_indices]\n",
    "    while len(unused_indices) > 1:\n",
    "        highest_common_pairs.append((unused_indices.pop(0), unused_indices.pop(0)))\n",
    "\n",
    "    # Display the pairs\n",
    "    print(\"Pairs of rows with the highest common tags in df_P (each row used only once):\")\n",
    "    print(highest_common_pairs)"
   ]
  },
  {
   "cell_type": "code",
   "execution_count": 5,
   "metadata": {},
   "outputs": [
    {
     "name": "stdout",
     "output_type": "stream",
     "text": [
      "The length of df_P is less than 2. Cannot proceed with the operation.\n"
     ]
    }
   ],
   "source": [
    "\n",
    "if len(df_P) < 2:\n",
    "    print(\"The length of df_P is less than 2. Cannot proceed with the operation.\")\n",
    "    # raise ValueError(\"The length of df_P is less than 2. Cannot proceed with the operation.\")\n",
    "else:\n",
    "    merged_rows = []\n",
    "    for pair in highest_common_pairs:\n",
    "        row1 = df_P.iloc[pair[0]]\n",
    "        row2 = df_P.iloc[pair[1]]\n",
    "        merged_id = [row1['id'][0], row2['id'][0]]\n",
    "        merged_tags = list(set(row1['tags'] + row2['tags']))\n",
    "        tag_number = len(merged_tags)\n",
    "        type = \"P\"\n",
    "        merged_rows.append({\"id\": merged_id, \"tags\": merged_tags, \"tagNumber\": tag_number, \"type\":type})\n",
    "\n",
    "    df_merged = pd.DataFrame(merged_rows)\n",
    "    df_merged.head()"
   ]
  },
  {
   "cell_type": "code",
   "execution_count": 6,
   "metadata": {},
   "outputs": [
    {
     "data": {
      "text/html": [
       "<div>\n",
       "<style scoped>\n",
       "    .dataframe tbody tr th:only-of-type {\n",
       "        vertical-align: middle;\n",
       "    }\n",
       "\n",
       "    .dataframe tbody tr th {\n",
       "        vertical-align: top;\n",
       "    }\n",
       "\n",
       "    .dataframe thead th {\n",
       "        text-align: right;\n",
       "    }\n",
       "</style>\n",
       "<table border=\"1\" class=\"dataframe\">\n",
       "  <thead>\n",
       "    <tr style=\"text-align: right;\">\n",
       "      <th></th>\n",
       "      <th>id</th>\n",
       "      <th>type</th>\n",
       "      <th>tagNumber</th>\n",
       "      <th>tags</th>\n",
       "    </tr>\n",
       "  </thead>\n",
       "  <tbody>\n",
       "    <tr>\n",
       "      <th>0</th>\n",
       "      <td>[0]</td>\n",
       "      <td>L</td>\n",
       "      <td>21</td>\n",
       "      <td>[ar5fv, a99am, a5nnd, aj4f, awzgl, a6zkl, acz3...</td>\n",
       "    </tr>\n",
       "    <tr>\n",
       "      <th>1</th>\n",
       "      <td>[1]</td>\n",
       "      <td>L</td>\n",
       "      <td>9</td>\n",
       "      <td>[apvh8, a7fgq, a6p61, a5u7p, awzsw, akw11, alh...</td>\n",
       "    </tr>\n",
       "    <tr>\n",
       "      <th>2</th>\n",
       "      <td>[2]</td>\n",
       "      <td>L</td>\n",
       "      <td>15</td>\n",
       "      <td>[ajj0r, ak3r, a5pgg, af36u, avwcg, an4hp, a0r1...</td>\n",
       "    </tr>\n",
       "    <tr>\n",
       "      <th>3</th>\n",
       "      <td>[3]</td>\n",
       "      <td>L</td>\n",
       "      <td>15</td>\n",
       "      <td>[a4ra4, a48r2, a0h5n, abzhk, a52uu, au895, afv...</td>\n",
       "    </tr>\n",
       "    <tr>\n",
       "      <th>4</th>\n",
       "      <td>[4]</td>\n",
       "      <td>L</td>\n",
       "      <td>15</td>\n",
       "      <td>[a5rbj, a8z5v, a46vk, a9h9q, a98wh, ajbc, a7w5...</td>\n",
       "    </tr>\n",
       "  </tbody>\n",
       "</table>\n",
       "</div>"
      ],
      "text/plain": [
       "    id type  tagNumber                                               tags\n",
       "0  [0]    L         21  [ar5fv, a99am, a5nnd, aj4f, awzgl, a6zkl, acz3...\n",
       "1  [1]    L          9  [apvh8, a7fgq, a6p61, a5u7p, awzsw, akw11, alh...\n",
       "2  [2]    L         15  [ajj0r, ak3r, a5pgg, af36u, avwcg, an4hp, a0r1...\n",
       "3  [3]    L         15  [a4ra4, a48r2, a0h5n, abzhk, a52uu, au895, afv...\n",
       "4  [4]    L         15  [a5rbj, a8z5v, a46vk, a9h9q, a98wh, ajbc, a7w5..."
      ]
     },
     "execution_count": 6,
     "metadata": {},
     "output_type": "execute_result"
    }
   ],
   "source": [
    "if len(df_P) < 2:\n",
    "    final_df = pd.concat([df_P, df_L], ignore_index=True)\n",
    "else:\n",
    "    final_df = pd.concat([df_merged, df_L], ignore_index=True)\n",
    "final_df.head()"
   ]
  },
  {
   "cell_type": "code",
   "execution_count": 7,
   "metadata": {},
   "outputs": [
    {
     "data": {
      "text/plain": [
       "(80000, 4)"
      ]
     },
     "execution_count": 7,
     "metadata": {},
     "output_type": "execute_result"
    }
   ],
   "source": [
    "final_df.shape"
   ]
  },
  {
   "cell_type": "code",
   "execution_count": 8,
   "metadata": {},
   "outputs": [
    {
     "name": "stdout",
     "output_type": "stream",
     "text": [
      "Rows with type 'P' where id array does not have exactly two values:\n",
      "0\n"
     ]
    }
   ],
   "source": [
    "invalid_ids = final_df[(final_df['type'] == 'P') & (final_df['id'].apply(len) == 2)]\n",
    "print(\"Rows with type 'P' where id array does not have exactly two values:\")\n",
    "print(len(invalid_ids))"
   ]
  },
  {
   "cell_type": "code",
   "execution_count": 12,
   "metadata": {},
   "outputs": [
    {
     "data": {
      "text/html": [
       "<div>\n",
       "<style scoped>\n",
       "    .dataframe tbody tr th:only-of-type {\n",
       "        vertical-align: middle;\n",
       "    }\n",
       "\n",
       "    .dataframe tbody tr th {\n",
       "        vertical-align: top;\n",
       "    }\n",
       "\n",
       "    .dataframe thead th {\n",
       "        text-align: right;\n",
       "    }\n",
       "</style>\n",
       "<table border=\"1\" class=\"dataframe\">\n",
       "  <thead>\n",
       "    <tr style=\"text-align: right;\">\n",
       "      <th></th>\n",
       "      <th>id</th>\n",
       "      <th>type</th>\n",
       "      <th>tagNumber</th>\n",
       "      <th>tags</th>\n",
       "    </tr>\n",
       "  </thead>\n",
       "  <tbody>\n",
       "    <tr>\n",
       "      <th>0</th>\n",
       "      <td>[0]</td>\n",
       "      <td>L</td>\n",
       "      <td>21</td>\n",
       "      <td>[ar5fv, a99am, a5nnd, aj4f, awzgl, a6zkl, acz3...</td>\n",
       "    </tr>\n",
       "    <tr>\n",
       "      <th>1</th>\n",
       "      <td>[1]</td>\n",
       "      <td>L</td>\n",
       "      <td>9</td>\n",
       "      <td>[apvh8, a7fgq, a6p61, a5u7p, awzsw, akw11, alh...</td>\n",
       "    </tr>\n",
       "    <tr>\n",
       "      <th>2</th>\n",
       "      <td>[2]</td>\n",
       "      <td>L</td>\n",
       "      <td>15</td>\n",
       "      <td>[ajj0r, ak3r, a5pgg, af36u, avwcg, an4hp, a0r1...</td>\n",
       "    </tr>\n",
       "    <tr>\n",
       "      <th>3</th>\n",
       "      <td>[3]</td>\n",
       "      <td>L</td>\n",
       "      <td>15</td>\n",
       "      <td>[a4ra4, a48r2, a0h5n, abzhk, a52uu, au895, afv...</td>\n",
       "    </tr>\n",
       "    <tr>\n",
       "      <th>4</th>\n",
       "      <td>[4]</td>\n",
       "      <td>L</td>\n",
       "      <td>15</td>\n",
       "      <td>[a5rbj, a8z5v, a46vk, a9h9q, a98wh, ajbc, a7w5...</td>\n",
       "    </tr>\n",
       "  </tbody>\n",
       "</table>\n",
       "</div>"
      ],
      "text/plain": [
       "    id type  tagNumber                                               tags\n",
       "0  [0]    L         21  [ar5fv, a99am, a5nnd, aj4f, awzgl, a6zkl, acz3...\n",
       "1  [1]    L          9  [apvh8, a7fgq, a6p61, a5u7p, awzsw, akw11, alh...\n",
       "2  [2]    L         15  [ajj0r, ak3r, a5pgg, af36u, avwcg, an4hp, a0r1...\n",
       "3  [3]    L         15  [a4ra4, a48r2, a0h5n, abzhk, a52uu, au895, afv...\n",
       "4  [4]    L         15  [a5rbj, a8z5v, a46vk, a9h9q, a98wh, ajbc, a7w5..."
      ]
     },
     "execution_count": 12,
     "metadata": {},
     "output_type": "execute_result"
    }
   ],
   "source": [
    "df_L.head()\n",
    "df_P.head()\n",
    "final_df.head()"
   ]
  },
  {
   "cell_type": "code",
   "execution_count": 15,
   "metadata": {},
   "outputs": [
    {
     "name": "stdout",
     "output_type": "stream",
     "text": [
      "21\n",
      "Number of tags in first row not in second row: 0\n"
     ]
    }
   ],
   "source": [
    "def min_form_number_of_common_tags(row1, row2):\n",
    "    set1 = set(row1['tags'])\n",
    "    set2 = set(row2['tags'])\n",
    "    \n",
    "    tags_in_row1_not_in_row2 = len(set1 - set2)\n",
    "    tags_in_row2_not_in_row1 = len(set2 - set1)\n",
    "    common_tags = len(set1 & set2)\n",
    "    \n",
    "    print(tags_in_row1_not_in_row2)\n",
    "    \n",
    "    return min(tags_in_row1_not_in_row2, tags_in_row2_not_in_row1, common_tags)\n",
    "\n",
    "# Example usage:\n",
    "row1 = final_df.iloc[0]\n",
    "row2 = final_df.iloc[1]\n",
    "result = min_form_number_of_common_tags(row1, row2)\n",
    "print(\"Number of tags in first row not in second row:\", result)"
   ]
  },
  {
   "cell_type": "code",
   "execution_count": 17,
   "metadata": {},
   "outputs": [
    {
     "ename": "MemoryError",
     "evalue": "Unable to allocate 47.7 GiB for an array with shape (80000, 80000) and data type float64",
     "output_type": "error",
     "traceback": [
      "\u001b[1;31m---------------------------------------------------------------------------\u001b[0m",
      "\u001b[1;31mMemoryError\u001b[0m                               Traceback (most recent call last)",
      "Cell \u001b[1;32mIn[17], line 11\u001b[0m\n\u001b[0;32m      8\u001b[0m             min_form_tags_matrix[j, i] \u001b[38;5;241m=\u001b[39m min_form_tags_matrix[i, j]\n\u001b[0;32m      9\u001b[0m     \u001b[38;5;28;01mreturn\u001b[39;00m min_form_tags_matrix\n\u001b[1;32m---> 11\u001b[0m min_form_tags_matrix \u001b[38;5;241m=\u001b[39m calculate_min_form_number_of_common_tags(final_df)\n\u001b[0;32m     13\u001b[0m \u001b[38;5;66;03m# Get the maximum value for each row\u001b[39;00m\n\u001b[0;32m     14\u001b[0m max_min_form_tags \u001b[38;5;241m=\u001b[39m np\u001b[38;5;241m.\u001b[39mmax(min_form_tags_matrix, axis\u001b[38;5;241m=\u001b[39m\u001b[38;5;241m1\u001b[39m)\n",
      "Cell \u001b[1;32mIn[17], line 4\u001b[0m, in \u001b[0;36mcalculate_min_form_number_of_common_tags\u001b[1;34m(df)\u001b[0m\n\u001b[0;32m      2\u001b[0m \u001b[38;5;28;01mdef\u001b[39;00m \u001b[38;5;21mcalculate_min_form_number_of_common_tags\u001b[39m(df):\n\u001b[0;32m      3\u001b[0m     n \u001b[38;5;241m=\u001b[39m \u001b[38;5;28mlen\u001b[39m(df)\n\u001b[1;32m----> 4\u001b[0m     min_form_tags_matrix \u001b[38;5;241m=\u001b[39m np\u001b[38;5;241m.\u001b[39mzeros((n, n))\n\u001b[0;32m      5\u001b[0m     \u001b[38;5;28;01mfor\u001b[39;00m i \u001b[38;5;129;01min\u001b[39;00m \u001b[38;5;28mrange\u001b[39m(n):\n\u001b[0;32m      6\u001b[0m         \u001b[38;5;28;01mfor\u001b[39;00m j \u001b[38;5;129;01min\u001b[39;00m \u001b[38;5;28mrange\u001b[39m(i \u001b[38;5;241m+\u001b[39m \u001b[38;5;241m1\u001b[39m, n):\n",
      "\u001b[1;31mMemoryError\u001b[0m: Unable to allocate 47.7 GiB for an array with shape (80000, 80000) and data type float64"
     ]
    }
   ],
   "source": [
    "# Calculate the min_form_number_of_common_tags for each pair of rows\n",
    "def calculate_min_form_number_of_common_tags(df):\n",
    "    n = len(df)\n",
    "    min_form_tags_matrix = np.zeros((n, n))\n",
    "    for i in range(n):\n",
    "        for j in range(i + 1, n):\n",
    "            min_form_tags_matrix[i, j] = min_form_number_of_common_tags(df.iloc[i], df.iloc[j])\n",
    "            min_form_tags_matrix[j, i] = min_form_tags_matrix[i, j]\n",
    "    return min_form_tags_matrix\n",
    "\n",
    "min_form_tags_matrix = calculate_min_form_number_of_common_tags(final_df)\n",
    "\n",
    "# Get the maximum value for each row\n",
    "max_min_form_tags = np.max(min_form_tags_matrix, axis=1)\n",
    "\n",
    "# Sort the dataframe based on the maximum min_form_number_of_common_tags values\n",
    "sorted_indices = np.argsort(-max_min_form_tags)\n",
    "sorted_final_df = final_df.iloc[sorted_indices].reset_index(drop=True)\n",
    "\n",
    "sorted_final_df.head()"
   ]
  },
  {
   "cell_type": "code",
   "execution_count": null,
   "metadata": {},
   "outputs": [
    {
     "name": "stdout",
     "output_type": "stream",
     "text": [
      "Output file created at: ../Data/output0.txt\n"
     ]
    }
   ],
   "source": [
    "output_file_path = \"../Data/output1.txt\"\n",
    "\n",
    "with open(output_file_path, 'w') as file:\n",
    "    # Write the total number of rows\n",
    "    file.write(f\"{len(sorted_final_df)}\\n\")\n",
    "    \n",
    "    # Write the 'id' column of each row without brackets\n",
    "    for idx, row in sorted_final_df.iterrows():\n",
    "        ids_str = ' '.join(map(str, row['id']))\n",
    "        file.write(f\"{ids_str}\\n\")\n",
    "\n",
    "print(f\"Output file created at: {output_file_path}\")"
   ]
  },
  {
   "cell_type": "code",
   "execution_count": null,
   "metadata": {},
   "outputs": [],
   "source": [
    "# # Example usage:\n",
    "# row1 = sorted_final_df.iloc[12]\n",
    "# row2 = sorted_final_df.iloc[13]\n",
    "# result = min_form_number_of_common_tags(row1, row2)\n",
    "# print(\"Number of tags in first row not in second row:\", result)"
   ]
  }
 ],
 "metadata": {
  "kernelspec": {
   "display_name": "base",
   "language": "python",
   "name": "python3"
  },
  "language_info": {
   "codemirror_mode": {
    "name": "ipython",
    "version": 3
   },
   "file_extension": ".py",
   "mimetype": "text/x-python",
   "name": "python",
   "nbconvert_exporter": "python",
   "pygments_lexer": "ipython3",
   "version": "3.11.7"
  }
 },
 "nbformat": 4,
 "nbformat_minor": 2
}
